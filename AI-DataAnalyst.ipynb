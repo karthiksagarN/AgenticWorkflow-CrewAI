{
 "cells": [
  {
   "cell_type": "code",
   "execution_count": 1,
   "metadata": {},
   "outputs": [],
   "source": [
    "from crewai import Agent,Task,Crew,Process\n",
    "from crewai_tools import SerperDevTool, Tool\n",
    "from langchain_groq import ChatGroq\n",
    "import os\n",
    "from dotenv import load_dotenv\n",
    "import matplotlib.pyplot as plt"
   ]
  },
  {
   "cell_type": "code",
   "execution_count": 2,
   "metadata": {},
   "outputs": [],
   "source": [
    "load_dotenv()\n",
    "GROQ_API_KEY= os.getenv(\"GROQ_API_KEY\")\n",
    "SERPER_API_KEY= os.getenv(\"SERPER_API_KEY\")"
   ]
  },
  {
   "cell_type": "code",
   "execution_count": 3,
   "metadata": {},
   "outputs": [],
   "source": [
    "llm = ChatGroq(model=\"gemma-7b-it\",groq_api_key=os.getenv(\"GROQ_API_KEY\"))"
   ]
  },
  {
   "cell_type": "code",
   "execution_count": 4,
   "metadata": {},
   "outputs": [],
   "source": [
    "# Part 1 - Create an agent in CrewAI with the role of 'Data Analyst'. The agent should have a goal of 'analyzing sales data', \n",
    "# a backstory of 'an experienced data analyst with a focus on sales trends', and a tool for 'data visualization'. \n",
    "# Include the code snippet to define this agent\n",
    "\n",
    "from crewai_tools import tool\n",
    "# Define a custom data visualization tool\n",
    "@tool('data_visualization')\n",
    "def data_visualization_tool(question: list) -> str:\n",
    "    \"\"\" \n",
    "    This is data visualization tool which is used to visualize sales data and analyze the trends in the data.\n",
    "    \"\"\"\n",
    "    response = llm.invoke(question)\n",
    "    return response\n",
    "\n",
    "data_visualization = data_visualization_tool\n",
    "\n",
    "data_analyst_agent = Agent(\n",
    "    role=\"Data Analyst\",\n",
    "    goal=\"Analyze sales data\",\n",
    "    backstory=\"An experienced data analyst with a focus on sales trends\",\n",
    "    tools=[data_visualization],\n",
    "    verbose=True\n",
    ")\n",
    "\n",
    "# Part 2 - Write a CrewAI task to 'collect sales data' for the 'Data Analyst' agent created in the previous part. \n",
    "# The task should include a description and expected output.\n",
    "collect_sales_data_task = Task(\n",
    "    description=\"Collect sales data for analysis\",\n",
    "    agent=data_analyst_agent,\n",
    "    expected_output=\"A detailed report containing the collected sales data\",\n",
    "    context=[]\n",
    ")"
   ]
  },
  {
   "cell_type": "code",
   "execution_count": 5,
   "metadata": {},
   "outputs": [],
   "source": [
    "# Part 3 - Implement a custom tool in CrewAI that connects to a weather API and retrieves the current weather for a given location. \n",
    "# Include the code to define and register this tool.\n",
    "# from crewai.tools import Tool, tool_decorator\n",
    "\n",
    "import requests\n",
    "\n",
    "def tool_decorator(name, description):\n",
    "    def decorator(func):\n",
    "        func._tool_name = name\n",
    "        func._tool_description = description\n",
    "        return func\n",
    "    return decorator\n",
    "\n",
    "@tool_decorator(name=\"WeatherTool\", description=\"Fetches current weather for a given location\")\n",
    "def get_current_weather(location: str) -> str:\n",
    "    API_KEY = \"your-api-key\"  # Replace with your actual API key\n",
    "    url = f\"http://api.weatherapi.com/v1/current.json?key={API_KEY}&q={location}\"\n",
    "    \n",
    "    try:\n",
    "        response = requests.get(url)\n",
    "        response.raise_for_status()  # Raise an exception for HTTP errors\n",
    "        data = response.json()\n",
    "\n",
    "        if 'current' in data:\n",
    "            weather = data['current']['condition']['text']\n",
    "            temperature = data['current']['temp_c']\n",
    "            return f\"The current weather in {location} is {weather} with a temperature of {temperature}°C.\"\n",
    "        else:\n",
    "            return f\"Error: 'current' data not found in response for {location}. Response: {data}\"\n",
    "    \n",
    "    except requests.RequestException as e:\n",
    "        return f\"Error: Unable to fetch weather data for {location}. Exception: {str(e)}\"\n",
    "\n",
    "# Custom Tool class for registering tools\n",
    "class Tool:\n",
    "    def __init__(self, name, func):\n",
    "        self.name = name\n",
    "        self.func = func\n",
    "\n",
    "# Register the tool\n",
    "weather_tool = Tool(name=\"WeatherTool\", func=get_current_weather)\n"
   ]
  },
  {
   "cell_type": "code",
   "execution_count": 28,
   "metadata": {},
   "outputs": [
    {
     "name": "stdout",
     "output_type": "stream",
     "text": [
      "The current weather in New York is Sunny with a temperature of 30.3°C.\n"
     ]
    }
   ],
   "source": [
    "# Example usage of the registered tool\n",
    "print(weather_tool.func(\"New York\"))"
   ]
  },
  {
   "cell_type": "code",
   "execution_count": 32,
   "metadata": {},
   "outputs": [
    {
     "name": "stdout",
     "output_type": "stream",
     "text": [
      "The current weather in Mumbai is Mist with a temperature of 26.3°C.\n"
     ]
    }
   ],
   "source": [
    "# Example usage of the registered tool\n",
    "print(weather_tool.func(\"Mumbai\"))"
   ]
  },
  {
   "cell_type": "code",
   "execution_count": 31,
   "metadata": {},
   "outputs": [
    {
     "name": "stdout",
     "output_type": "stream",
     "text": [
      "The current weather in Hyderabad is Light rain with a temperature of 23.2°C.\n"
     ]
    }
   ],
   "source": [
    "# Example usage of the registered tool\n",
    "print(weather_tool.func(\"Hyderabad\"))"
   ]
  },
  {
   "cell_type": "code",
   "execution_count": 6,
   "metadata": {},
   "outputs": [],
   "source": [
    "# Part 4\n",
    "from crewai import Process\n",
    "from crewai import Crew\n",
    "\n",
    "# Define the Manager agent\n",
    "manager_agent = Agent(\n",
    "    role=\"Manager\",\n",
    "    goal=\"Delegate tasks to appropriate agents\",\n",
    "    backstory=\"A seasoned manager responsible for overseeing data collection and analysis\",\n",
    "    tools=[],\n",
    "    verbose=True\n",
    ")\n",
    "\n",
    "# Create and run the crew\n",
    "sales_data_crew = Crew(\n",
    "    agents=[manager_agent, data_analyst_agent],\n",
    "    tasks=[collect_sales_data_task],\n",
    "    process=Process.hierarchical,\n",
    "    manager_llm = llm,\n",
    "    verbose=True\n",
    ")"
   ]
  },
  {
   "cell_type": "code",
   "execution_count": null,
   "metadata": {},
   "outputs": [],
   "source": [
    "# Running the crew\n",
    "result = sales_data_crew.kickoff()\n",
    "print(\"###################################################\")\n",
    "print(result)"
   ]
  },
  {
   "cell_type": "code",
   "execution_count": null,
   "metadata": {},
   "outputs": [],
   "source": []
  }
 ],
 "metadata": {
  "kernelspec": {
   "display_name": "Python 3",
   "language": "python",
   "name": "python3"
  },
  "language_info": {
   "codemirror_mode": {
    "name": "ipython",
    "version": 3
   },
   "file_extension": ".py",
   "mimetype": "text/x-python",
   "name": "python",
   "nbconvert_exporter": "python",
   "pygments_lexer": "ipython3",
   "version": "3.10.0"
  }
 },
 "nbformat": 4,
 "nbformat_minor": 2
}
